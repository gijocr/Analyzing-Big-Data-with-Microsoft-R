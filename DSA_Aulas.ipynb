{
  "nbformat": 4,
  "nbformat_minor": 0,
  "metadata": {
    "colab": {
      "name": "DSA -  Aulas.ipynb",
      "provenance": [],
      "authorship_tag": "ABX9TyMTgVwWsmRjyUCTqVyR2GXO",
      "include_colab_link": true
    },
    "kernelspec": {
      "name": "python3",
      "display_name": "Python 3"
    }
  },
  "cells": [
    {
      "cell_type": "markdown",
      "metadata": {
        "id": "view-in-github",
        "colab_type": "text"
      },
      "source": [
        "<a href=\"https://colab.research.google.com/github/gijocr/Analyzing-Big-Data-with-Microsoft-R/blob/master/DSA_Aulas.ipynb\" target=\"_parent\"><img src=\"https://colab.research.google.com/assets/colab-badge.svg\" alt=\"Open In Colab\"/></a>"
      ]
    },
    {
      "cell_type": "markdown",
      "metadata": {
        "id": "UtyGFOa7LXvt",
        "colab_type": "text"
      },
      "source": [
        "**Big Data Real-Time Analytics com Python e Spark**\n",
        "\n",
        "\n",
        "\n"
      ]
    },
    {
      "cell_type": "markdown",
      "metadata": {
        "id": "B4QPRdDdLjAG",
        "colab_type": "text"
      },
      "source": [
        "Modulos em PYTHON\n"
      ]
    },
    {
      "cell_type": "code",
      "metadata": {
        "id": "KGZfwd2yLj9y",
        "colab_type": "code",
        "colab": {}
      },
      "source": [
        ""
      ],
      "execution_count": 0,
      "outputs": []
    }
  ]
}